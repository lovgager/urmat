{
 "cells": [
  {
   "cell_type": "code",
   "execution_count": 6,
   "metadata": {
    "scrolled": false
   },
   "outputs": [
    {
     "name": "stdout",
     "output_type": "stream",
     "text": [
      "Using matplotlib backend: Qt5Agg\n",
      "Populating the interactive namespace from numpy and matplotlib\n"
     ]
    }
   ],
   "source": [
    "from matplotlib.widgets import Slider\n",
    "import numpy as np\n",
    "import matplotlib.pyplot as plt\n",
    "import scipy.integrate as integrate\n",
    "%pylab\n",
    "\n",
    "def phi(x):\n",
    "    return np.pi\n",
    "\n",
    "def f(x, N, t):\n",
    "    res = 0.0\n",
    "    for n in range(1, int(N) + 1):\n",
    "        Cn = integrate.quad(lambda x: phi(x) * np.sin(n * x), 0, np.pi)[0] * 2 / np.pi\n",
    "        res += Cn * np.exp(-n * n * t * 0.1) * np.sin(n * x)\n",
    "    return res\n",
    "\n",
    "n_min = 0\n",
    "n_max = 100\n",
    "n_init = 1 \n",
    "t_min = -1\n",
    "t_max = 10\n",
    "t_init = 0\n",
    "\n",
    "cur_n = n_init\n",
    "cur_t = t_init\n",
    "\n",
    "x = np.linspace(-7, 7, 500)\n",
    "\n",
    "fig = plt.figure(figsize=(13,8))\n",
    "\n",
    "ax = plt.axes([0.1, 0.3, 0.8, 0.65])\n",
    "slider_ax = plt.axes([0.1, 0.2, 0.8, 0.03])\n",
    "slider_ax2 = plt.axes([0.1, 0.15, 0.8, 0.03])\n",
    "\n",
    "ax.grid(True)\n",
    "ax.axhline(y=0, color='k', linewidth=1)\n",
    "ax.axvline(x=0, color='k', linewidth=1)\n",
    "ax.axvline(x=np.pi, color='k', linewidth=1)\n",
    "\n",
    "plt.sca(ax)\n",
    "graph, = plt.plot(x, f(x, n_init, t_init), 'r')\n",
    "plt.xlim(-1, 4)\n",
    "plt.ylim(-1, 5)\n",
    "plt.xlabel(\"X-coordinate\")\n",
    "plt.ylabel(\"Temperature\")\n",
    "\n",
    "n_slider = Slider(slider_ax, 'adds in series', n_min, n_max, valinit=n_init, valstep=1, valfmt=\"%d\")\n",
    "t_slider = Slider(slider_ax2, 'time', t_min, t_max, valinit=t_init, valstep=0.01, valfmt=\"%f\")\n",
    "\n",
    "\n",
    "def update_n(new_n):\n",
    "    global cur_n\n",
    "    cur_n = new_n\n",
    "    graph.set_ydata(f(x, cur_n, cur_t)) \n",
    "    fig.canvas.draw_idle()          \n",
    "\n",
    "def update_t(new_t):\n",
    "    global cur_t\n",
    "    cur_t = new_t\n",
    "    graph.set_ydata(f(x, cur_n, cur_t)) \n",
    "    fig.canvas.draw_idle()\n",
    "    \n",
    "\n",
    "t_slider.on_changed(update_t)\n",
    "n_slider.on_changed(update_n)\n",
    "\n",
    "plt.show()"
   ]
  },
  {
   "cell_type": "code",
   "execution_count": 12,
   "metadata": {},
   "outputs": [],
   "source": []
  }
 ],
 "metadata": {
  "kernelspec": {
   "display_name": "Python 3",
   "language": "python",
   "name": "python3"
  },
  "language_info": {
   "codemirror_mode": {
    "name": "ipython",
    "version": 3
   },
   "file_extension": ".py",
   "mimetype": "text/x-python",
   "name": "python",
   "nbconvert_exporter": "python",
   "pygments_lexer": "ipython3",
   "version": "3.7.3"
  }
 },
 "nbformat": 4,
 "nbformat_minor": 2
}
